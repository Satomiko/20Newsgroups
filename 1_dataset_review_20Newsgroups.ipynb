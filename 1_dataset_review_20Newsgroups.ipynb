{
  "nbformat": 4,
  "nbformat_minor": 0,
  "metadata": {
    "colab": {
      "provenance": [],
      "authorship_tag": "ABX9TyNd8cpuFaOk/rZ/UT48WWQR",
      "include_colab_link": true
    },
    "kernelspec": {
      "name": "python3",
      "display_name": "Python 3"
    },
    "language_info": {
      "name": "python"
    }
  },
  "cells": [
    {
      "cell_type": "markdown",
      "metadata": {
        "id": "view-in-github",
        "colab_type": "text"
      },
      "source": [
        "<a href=\"https://colab.research.google.com/github/Satomiko/20Newsgroups/blob/main/1_dataset_review_20Newsgroups.ipynb\" target=\"_parent\"><img src=\"https://colab.research.google.com/assets/colab-badge.svg\" alt=\"Open In Colab\"/></a>"
      ]
    },
    {
      "cell_type": "code",
      "source": [
        "from sklearn.datasets import fetch_20newsgroups"
      ],
      "metadata": {
        "id": "L5MnsekdVlpJ"
      },
      "execution_count": null,
      "outputs": []
    },
    {
      "cell_type": "code",
      "execution_count": null,
      "metadata": {
        "id": "08gwSzUUVIaw"
      },
      "outputs": [],
      "source": [
        "#use \"fetch_20newsgroups\" function from sklean.datasets  to load 20 newsgroups dataset\n",
        "#to understand the dataset, I am loading all (train+test) at this time by using parameter subset='all'\n",
        "news20group = fetch_20newsgroups(subset='all',shuffle=False)"
      ]
    },
    {
      "cell_type": "code",
      "source": [
        "type (news20group)"
      ],
      "metadata": {
        "colab": {
          "base_uri": "https://localhost:8080/"
        },
        "id": "UCv72zf2Vt_3",
        "outputId": "c31e9c0a-f8e5-41f5-df41-35c60c5f6ceb"
      },
      "execution_count": null,
      "outputs": [
        {
          "output_type": "execute_result",
          "data": {
            "text/plain": [
              "sklearn.utils._bunch.Bunch"
            ]
          },
          "metadata": {},
          "execution_count": 15
        }
      ]
    },
    {
      "cell_type": "code",
      "source": [
        "dir(news20group)"
      ],
      "metadata": {
        "colab": {
          "base_uri": "https://localhost:8080/"
        },
        "id": "H4eqiz6zVvrS",
        "outputId": "0b80a532-9c8f-47f3-9756-8fe8572c12fc"
      },
      "execution_count": null,
      "outputs": [
        {
          "output_type": "execute_result",
          "data": {
            "text/plain": [
              "['DESCR', 'data', 'filenames', 'target', 'target_names']"
            ]
          },
          "metadata": {},
          "execution_count": 16
        }
      ]
    },
    {
      "cell_type": "code",
      "source": [
        "#Print description(DESCR) of the dataset\n",
        "print(news20group.DESCR)"
      ],
      "metadata": {
        "id": "rE_Ao7T7VypU"
      },
      "execution_count": null,
      "outputs": []
    },
    {
      "cell_type": "code",
      "source": [
        "#number of total observation in 20newsgroups datasets\n",
        "len(news20group.data)"
      ],
      "metadata": {
        "colab": {
          "base_uri": "https://localhost:8080/"
        },
        "id": "t7eJt1ALV1ZL",
        "outputId": "aed85acf-7d0a-4c46-9013-e08a09021e52"
      },
      "execution_count": null,
      "outputs": [
        {
          "output_type": "execute_result",
          "data": {
            "text/plain": [
              "18846"
            ]
          },
          "metadata": {},
          "execution_count": 6
        }
      ]
    },
    {
      "cell_type": "code",
      "source": [
        "#printing class and data of the first 5 observation\n",
        "for i in range(5):\n",
        "  print(\"target#:\",news20group.target[i])\n",
        "  print()\n",
        "  print(news20group.data[i])\n",
        "  print(\"------------------\")"
      ],
      "metadata": {
        "colab": {
          "base_uri": "https://localhost:8080/"
        },
        "id": "LHqHQkk_V4Hn",
        "outputId": "75344ab0-fce5-4f7b-b93e-b82df3e4f703"
      },
      "execution_count": null,
      "outputs": [
        {
          "output_type": "stream",
          "name": "stdout",
          "text": [
            "target#: 9\n",
            "\n",
            "From: cubbie@garnet.berkeley.edu (                               )\n",
            "Subject: Re: Cubs behind Marlins? How?\n",
            "Article-I.D.: agate.1pt592$f9a\n",
            "Organization: University of California, Berkeley\n",
            "Lines: 12\n",
            "NNTP-Posting-Host: garnet.berkeley.edu\n",
            "\n",
            "\n",
            "gajarsky@pilot.njin.net writes:\n",
            "\n",
            "morgan and guzman will have era's 1 run higher than last year, and\n",
            " the cubs will be idiots and not pitch harkey as much as hibbard.\n",
            " castillo won't be good (i think he's a stud pitcher)\n",
            "\n",
            "       This season so far, Morgan and Guzman helped to lead the Cubs\n",
            "       at top in ERA, even better than THE rotation at Atlanta.\n",
            "       Cubs ERA at 0.056 while Braves at 0.059. We know it is early\n",
            "       in the season, we Cubs fans have learned how to enjoy the\n",
            "       short triumph while it is still there.\n",
            "\n",
            "------------------\n",
            "target#: 4\n",
            "\n",
            "From: gnelson@pion.rutgers.edu (Gregory Nelson)\n",
            "Subject: Thanks Apple: Free Ethernet on my C610!\n",
            "Article-I.D.: pion.Apr.6.12.05.34.1993.11732\n",
            "Organization: Rutgers Univ., New Brunswick, N.J.\n",
            "Lines: 26\n",
            "\n",
            "\n",
            "\tWell, I just got my Centris 610 yesterday.  It took just over two \n",
            "weeks from placing the order.  The dealer (Rutgers computer store) \n",
            "appologized because Apple made a substitution on my order.  I ordered\n",
            "the one without ethernet, but they substituted one _with_ ethernet.\n",
            "He wanted to know if that would be \"alright with me\"!!!  They must\n",
            "be backlogged on Centri w/out ethernet so they're just shipping them\n",
            "with!  \n",
            "\n",
            "\tAnyway, I'm very happy with the 610 with a few exceptions.  \n",
            "Being nosy, I decided to open it up _before_ powering it on for the first\n",
            "time.  The SCSI cable to the hard drive was only partially connected\n",
            "(must have come loose in shipping).  No big deal, but I would have been\n",
            "pissed if I tried to boot it and it wouldn't come up!\n",
            "\tThe hard drive also has an annoying high pitched whine.  I've\n",
            "heard apple will exchange it if you complain, so I might try to get\n",
            "it swapped.\n",
            "\tI am also dissappionted by the lack of soft power-on/off.  This\n",
            "wasn't mentioned in any of the literature I saw.  Also, the location\n",
            "of the reset/interupt buttons is awful.  Having keyboard control for\n",
            "these functions was much more convenient.\n",
            "\tOh, and the screen seems tojump in a wierd way on power-up.\n",
            "I've seen this mentioned by others, so it must be a...feature...\n",
            "\tAnyway, above all, it's fast.  A great machine at a great price!\n",
            "\n",
            "gnelson@physics.rutgers.edu\n",
            "\n",
            "------------------\n",
            "target#: 11\n",
            "\n",
            "From: crypt-comments@math.ncsu.edu\n",
            "Subject: Cryptography FAQ 10/10 - References\n",
            "Organization: The Crypt Cabal\n",
            "Lines: 333\n",
            "Expires: 22 May 1993 04:00:07 GMT\n",
            "Reply-To: crypt-comments@math.ncsu.edu\n",
            "NNTP-Posting-Host: pad-thai.aktis.com\n",
            "Summary: Part 10 of 10 of the sci.crypt FAQ, References.\n",
            " History and classical methods. Modern methods. Survey and reference\n",
            " articles. Journals and conference proceedings. Electronic sources\n",
            " (FTP sites).  Related newsgroups.\n",
            "X-Last-Updated: 1993/04/16\n",
            "\n",
            "Archive-name: cryptography-faq/part10\n",
            "Last-modified: 1993/4/15\n",
            "\n",
            "\n",
            "FAQ for sci.crypt, part 10: References\n",
            "\n",
            "This is the tenth of ten parts of the sci.crypt FAQ. The parts are\n",
            "mostly independent, but you should read the first part before the rest.\n",
            "We don't have the time to send out missing parts by mail, so don't ask.\n",
            "Notes such as ``[KAH67]'' refer to the reference list in this part.\n",
            "\n",
            "The sections of this FAQ are available via anonymous FTP to rtfm.mit.edu \n",
            "as /pub/usenet/news.answers/cryptography-faq/part[xx].  The Cryptography \n",
            "FAQ is posted to the newsgroups sci.crypt, sci.answers, and news.answers \n",
            "every 21 days.\n",
            "\n",
            "\n",
            "Contents\n",
            "\n",
            "* Books on history and classical methods\n",
            "* Books on modern methods\n",
            "* Survey articles\n",
            "* Reference articles\n",
            "* Journals, conference proceedings\n",
            "* Other\n",
            "* Electronic sources\n",
            "* RFCs (available from [FTPRF])\n",
            "* Related newsgroups\n",
            "\n",
            "\n",
            "* Books on history and classical methods\n",
            "\n",
            "  [CF]    Lambros D. Callimahos, William F. Friedman, Military Cryptanalytics.\n",
            "\t  Aegean Park Press, ?.\n",
            "  [DEA85] Cipher A. Deavours & Louis Kruh, Machine Cryptography and\n",
            "          Modern Cryptanalysis. Artech House, 610 Washington St.,\n",
            "          Dedham, MA 02026, 1985.\n",
            "  [FRIE2] William F. Friedman, Solving German Codes in World War I.\n",
            "          Aegean Park Press, ?.\n",
            "  [GAI44] H. Gaines, Cryptanalysis, a study of ciphers and their\n",
            "          solution. Dover Publications, 1944.\n",
            "  [HIN00] F.H.Hinsley, et al., British Intelligence in the Second\n",
            "          World War. Cambridge University Press. (vol's 1, 2, 3a, 3b\n",
            "          & 4, so far).  XXX Years and authors, fix XXX\n",
            "  [HOD83] Andrew Hodges, Alan Turing: The Enigma. Burnett Books\n",
            "          Ltd., 1983\n",
            "  [KAH91] David Kahn, Seizing the Enigma. Houghton Mifflin, 1991.\n",
            "  [KAH67] D. Kahn, The Codebreakers. Macmillan Publishing, 1967.\n",
            "          [history] [The abridged paperback edition left out most\n",
            "          technical details; the original hardcover edition is\n",
            "          recommended.]\n",
            "  [KOZ84] W. Kozaczuk, Enigma. University Publications of America, 1984\n",
            "  [KUL76] S. Kullback, Statistical Methods in Cryptanalysis. Aegean\n",
            "          Park Press, 1976.\n",
            "  [SIN66] A. Sinkov, Elementary Cryptanalysis. Math. Assoc. Am. 1966.\n",
            "  [WEL82] Gordon Welchman, The Hut Six Story. McGraw-Hill, 1982.\n",
            "  [YARDL] Herbert O. Yardley, The American Black Chamber. Aegean Park\n",
            "          Press, ?.\n",
            "\n",
            "* Books on modern methods\n",
            "\n",
            "  [BEK82] H. Beker, F. Piper, Cipher Systems. Wiley, 1982.\n",
            "  [BRA88] G. Brassard, Modern Cryptology: a tutorial.\n",
            "          Spinger-Verlag, 1988.\n",
            "  [DEN82] D. Denning, Cryptography and Data Security. Addison-Wesley\n",
            "          Publishing Company, 1982.\n",
            "  [KOB89] N. Koblitz, A course in number theory and cryptography.\n",
            "          Springer-Verlag, 1987.\n",
            "  [KON81] A. Konheim, Cryptography: a primer. Wiley, 1981.\n",
            "  [MEY82] C. Meyer and S. Matyas, Cryptography: A new dimension in\n",
            "          computer security. Wiley, 1982.\n",
            "  [PAT87] Wayne Patterson, Mathematical Cryptology for Computer\n",
            "          Scientists and Mathematicians. Rowman & Littlefield, 1987.\n",
            "  [PFL89] C. Pfleeger, Security in Computing. Prentice-Hall, 1989.\n",
            "  [PRI84] W. Price, D. Davies, Security for computer networks. Wiley, 1984. \n",
            "  [RUE86] R. Rueppel, Design and Analysis of Stream Ciphers.\n",
            "          Springer-Verlag, 1986.\n",
            "  [SAL90] A. Saloma, Public-key cryptography. Springer-Verlag, 1990.\n",
            "  [WEL88] D. Welsh, Codes and Cryptography. Claredon Press, 1988.\n",
            "\n",
            "* Survey articles\n",
            "\n",
            "  [ANG83] D. Angluin, D. Lichtenstein, Provable Security in Crypto-\n",
            "          systems: a survey. Yale University, Department of Computer\n",
            "          Science, #288, 1983.\n",
            "  [BET90] T. Beth, Algorithm engineering for public key algorithms.\n",
            "          IEEE Selected Areas of Communication, 1(4), 458--466,\n",
            "          1990.\n",
            "  [DAV83] M. Davio, J. Goethals, Elements of cryptology. in Secure\n",
            "          Digital Communications, G. Longo ed., 1--57, 1983.\n",
            "  [DIF79] W. Diffie, M. Hellman, Privacy and Authentication: An\n",
            "          introduction to cryptography. IEEE proceedings, 67(3),\n",
            "          397--427, 1979.\n",
            "  [DIF88] W. Diffie, The first ten years of public key cryptography.\n",
            "          IEEE proceedings, 76(5), 560--577, 1988.\n",
            "  [FEI73] H. Feistel, Cryptography and Computer Privacy. Scientific \n",
            "          American, 228(5), 15--23, 1973.\n",
            "  [FEI75] H. Feistel, H, W. Notz, J. Lynn Smith. Some cryptographic\n",
            "          techniques for machine-to-machine data communications,\n",
            "          IEEE IEEE proceedings, 63(11), 1545--1554, 1975.\n",
            "  [HEL79] M. Hellman, The mathematics of public key cryptography.\n",
            "          Scientific American, 130--139, 1979.\n",
            "  [LAK83] S. Lakshmivarahan, Algorithms for public key\n",
            "          cryptosystems. In Advances in Computers, M. Yovtis ed.,\n",
            "          22, Academic Press, 45--108, 1983.\n",
            "  [LEM79] A. Lempel, Cryptology in transition, Computing Surveys,\n",
            "          11(4), 285--304, 1979.\n",
            "  [MAS88] J. Massey, An introduction to contemporary cryptology, IEEE\n",
            "          proceedings, 76(5), 533--549, 1988.\n",
            "  [SIM91] G. Simmons (ed.), Contemporary Cryptology: the Science of\n",
            "          Information Integrity. IEEE press, 1991.\n",
            "\n",
            "* Reference articles\n",
            "\n",
            "  [AND83] D. Andelman, J. Reeds, On the cryptanalysis of rotor and\n",
            "          substitution-permutation networks. IEEE Trans. on Inform.\n",
            "          Theory, 28(4), 578--584, 1982.\n",
            "  [BEN87] John Bennett, Analysis of the Encryption Algorithm Used in\n",
            "          the WordPerfect Word Processing Program. Cryptologia 11(4),\n",
            "          206--210, 1987.\n",
            "  [BER91] H. A. Bergen and W. J. Caelli, File Security in WordPerfect\n",
            "          5.0. Cryptologia 15(1), 57--66, January 1991.\n",
            "  [BIH91] E. Biham and A. Shamir, Differential cryptanalysis of\n",
            "          DES-like cryptosystems. Journal of Cryptology, vol. 4, #1,\n",
            "          3--72, 1991.\n",
            "  [BI91a] E. Biham, A. Shamir, Differential cryptanalysis of Snefru,\n",
            "          Khafre, REDOC-II, LOKI and LUCIFER. In Proceedings of CRYPTO\n",
            "          '91, ed. by J. Feigenbaum, 156--171, 1992.\n",
            "  [BOY89] J. Boyar, Inferring Sequences Produced by Pseudo-Random\n",
            "          Number Generators. Journal of the ACM, 1989.\n",
            "  [BRI86] E. Brickell, J. Moore, M. Purtill, Structure in the\n",
            "          S-boxes of DES. In Proceedings of CRYPTO '86, A. M. Odlyzko\n",
            "          ed., 3--8, 1987.\n",
            "  [BRO89] L. Brown, A proposed design for an extended DES, Computer\n",
            "          Security in the Computer Age. Elsevier Science Publishers\n",
            "          B.V. (North Holland), IFIP, W. J. Caelli ed., 9--22, 1989.\n",
            "  [BRO90] L. Brown, J. Pieprzyk, J. Seberry, LOKI - a cryptographic\n",
            "          primitive for authentication and secrecy applications.\n",
            "          In Proceedings of AUSTCRYPT 90, 229--236, 1990.\n",
            "  [CAE90] H. Gustafson, E. Dawson, W. Caelli, Comparison of block\n",
            "          ciphers. In Proceedings of AUSCRYPT '90, J. Seberry and J.\n",
            "          Piepryzk eds., 208--220, 1990.\n",
            "  [CAM93] K. W. Campbell, M. J. Wiener, Proof the DES is Not a Group.\n",
            "          In Proceedings of CRYPTO '92, 1993.\n",
            "  [ELL88] Carl M. Ellison, A Solution of the Hebern Messages. Cryptologia,\n",
            "          vol. XII, #3, 144-158, Jul 1988.\n",
            "  [EVE83] S. Even, O. Goldreich, DES-like functions can generate the\n",
            "          alternating group. IEEE Trans. on Inform. Theory, vol. 29,\n",
            "          #6, 863--865, 1983.\n",
            "  [GAR91] G. Garon, R. Outerbridge, DES watch: an examination of the\n",
            "          sufficiency of the Data Encryption Standard for financial\n",
            "          institutions in the 1990's. Cryptologia, vol. XV, #3,\n",
            "          177--193, 1991.\n",
            "  [GIL80] Gillogly, ?. Cryptologia 4(2), 1980.\n",
            "  [GM82]  Shafi Goldwasser, Silvio Micali, Probabilistic Encryption and\n",
            "\t  How To Play Mental Poker Keeping Secret All Partial Information.\n",
            "\t  Proceedings of the Fourteenth Annual ACM Symposium on Theory of\n",
            "\t  Computing, 1982.\n",
            "  [HUM83] D. G. N. Hunter and A. R. McKenzie, Experiments with\n",
            "          Relaxation Algorithms for Breaking Simple Substitution\n",
            "          Ciphers. Computer Journal 26(1), 1983.\n",
            "  [KAM78] J. Kam, G. Davida, A structured design of substitution-\n",
            "          permutation encryption networks. IEEE Trans. Information\n",
            "          Theory, 28(10), 747--753, 1978.\n",
            "  [KIN78] P. Kinnucan, Data encryption gurus: Tuchman and Meyer.\n",
            "          Cryptologia, vol. II #4, 371--XXX, 1978.\n",
            "  [KRU88] Kruh, ?. Cryptologia 12(4), 1988.\n",
            "  [LAI90] X. Lai, J. Massey, A proposal for a new block encryption \n",
            "          standard. EUROCRYPT 90, 389--404, 1990.\n",
            "  [LUB88] C. Rackoff, M. Luby, How to construct psuedorandom\n",
            "          permutations from psuedorandom functions. SIAM Journal of\n",
            "          Computing, vol. 17, #2, 373--386, 1988.\n",
            "  [MAS88] J. Massey, An introduction to contemporary cryptology.\n",
            "          IEEE proceedings, 76(5), 533--549, 1988.\n",
            "  [ME91a] R. Merkle, Fast software encryption functions. In Proceedings\n",
            "          of CRYPTO '90, Menezes and Vanstone ed., 476--501, 1991.\n",
            "  [MEY78] C. Meyer, Ciphertext/plaintext and ciphertext/key\n",
            "          dependence vs. number of rounds for the Data Encryption\n",
            "          Standard. AFIPS Conference proceedings, 47, 1119--1126,\n",
            "          1978.\n",
            "  [NBS77] Data Encryption Standard. National Bureau of Standards,\n",
            "          FIPS PUB 46, Washington, DC, January 1977.\n",
            "  [REE77] J. Reeds, `Cracking' a Random Number Generator.\n",
            "          Cryptologia 1(1), 20--26, 1977.\n",
            "  [REE84] J. A. Reeds and P. J. Weinberger, File Security and the UNIX\n",
            "          Crypt Command. AT&T Bell Laboratories Technical Journal,\n",
            "          Vol. 63 #8, part 2, 1673--1684, October, 1984.\n",
            "  [SHA49] C. Shannon, Communication Theory of Secrecy Systems. Bell\n",
            "          System Technical Journal 28(4), 656--715, 1949.\n",
            "  [SHE88] B. Kaliski, R. Rivest, A. Sherman, Is the Data Encryption\n",
            "          Standard a Group. Journal of Cryptology, vol. 1, #1,\n",
            "          1--36, 1988.\n",
            "  [SHI88] A. Shimizu, S. Miyaguchi, Fast data encipherment algorithm\n",
            "          FEAL. EUROCRYPT '87, 267--278, 1988.\n",
            "  [SOR84] A. Sorkin, LUCIFER: a cryptographic algorithm.\n",
            "          Cryptologia, 8(1), 22--35, 1984.\n",
            "\t\n",
            "* Journals, conference proceedings\n",
            "\n",
            "  CRYPTO\n",
            "  Eurocrypt\n",
            "  IEEE Transactions on Information Theory\n",
            "  Cryptologia: a cryptology journal, quarterly since Jan 1977.\n",
            "          Cryptologia; Rose-Hulman Institute of Technology; Terre Haute\n",
            "          Indiana 47803 [general: systems, analysis, history, ...]\n",
            "  Journal of Cryptology; International Association for Cryptologic\n",
            "          Research; published by Springer Verlag (quarterly since\n",
            "          1988).\n",
            "  The Cryptogram (Journal of the American Cryptogram Association);\n",
            "          18789 West Hickory Street; Mundelein, IL 60060; [primarily\n",
            "          puzzle cryptograms of various sorts]\n",
            "  Cryptosystems Journal, Published by Tony Patti, P.O. Box 188,\n",
            "          Newtown PA, USA 18940-0188 or tony_s_patti@cup.portal.com.\n",
            "\t  Publisher's comment: Includes complete cryptosystems with\n",
            "\t  source and executable programs on diskettes. Tutorial. The\n",
            "\t  typical cryptosystems supports multi-megabit keys and Galois\n",
            "\t  Field arithmetic. Inexpensive hardware random number\n",
            "\t  generator details.\n",
            "\n",
            "  Computer and Communication Security Reviews, published by Ross Anderson.\n",
            "\t  Sample issue available from various ftp sites, including\n",
            "\t  black.ox.ac.uk.  Editorial c/o rja14@cl.cam.ac.uk.  Publisher's\n",
            "\t  comment: We review all the conference proceedings in this field,\n",
            "\t  including not just Crypto and Eurocrypt, but regional gatherings\n",
            "\t  like Auscrypt and Chinacrypt. We also abstract over 50 journals,\n",
            "\t  and cover computer security as well as cryptology, so readers can\n",
            "\t  see the research trends in applications as well as theory.\n",
            "\n",
            "* Other\n",
            "\n",
            "  Address of note: Aegean Park Press, P.O. Box 2837, Laguna Hills, CA\n",
            "  92654-0837. Answering machine at 714-586-8811.\n",
            "\n",
            "  The ``Orange Book'' is DOD 5200.28-STD, published December 1985 as\n",
            "  part of the ``rainbow book'' series. Write to Department of Defense,\n",
            "  National Security Agency, ATTN: S332, 9800 Savage Road, Fort Meade, MD\n",
            "  20755-6000, and ask for the Trusted Computer System Evaluation\n",
            "  Criteria. Or call 301-766-8729.\n",
            "\n",
            "  [BAMFD] Bamford, The Puzzle Palace. Penguin Books, ?.\n",
            "  [GOO83] I. J. Good, Good Thinking: the foundations of probability and\n",
            "          its applications. University of Minnesota Press, 1983.\n",
            "  [KNU81] D. E. Knuth, The Art of Computer Programming, volume 2:\n",
            "          Seminumerical Algorithms. Addison-Wesley, 1981.\n",
            "  [KUL68] Soloman Kullbach, Information Theory and Statistics.\n",
            "          Dover, 1968.\n",
            "  [YAO88] A. Yao, Computational Information Theory. In Complexity in\n",
            "          Information Theory, ed. by Abu-Mostafa, 1988.\n",
            "\n",
            "* How may one obtain copies of FIPS and ANSI standards cited herein?\n",
            "\n",
            "  Many textbooks on cryptography contain complete reprints of the FIPS\n",
            "  standards, which are not copyrighted.\n",
            "\n",
            "  The following standards may be ordered from the\n",
            "      U.S. Department of Commerce, National Technical Information Service,\n",
            "      Springfield, VA 22161.\n",
            "\n",
            "      FIPS PUB 46-1 \"Data Encryption Standard\"  (this is DES)\n",
            "      FIPS PUB 74   \"Guidelines for Implementing as Using the NBS DES\"\n",
            "      FIPS PUB 81   \"DES Modes of Operation\"\n",
            "      FIPS PUB 113  \"Computer Data Authentication\" (using DES)\n",
            "\n",
            "  The following standards may be ordered from the\n",
            "      American National Standards Institute Sales Office,\n",
            "      1430 Broadway, New York, NY 10018.\n",
            "      Phone 212.642.4900\n",
            "\n",
            "      ANSI X3.92-1981  \"Data Encryption Algorithm\" (identical to FIPS 46-1)\n",
            "      ANSI X3.106-1983 \"DEA Modes of Operation\"    (identical to FIPS 113)\n",
            "\n",
            "  Notes:  Figure 3 in FIPS PUB 46-1 is in error, but figure 3 in X3.92-1981\n",
            "      is correct.  The text is correct in both publications.\n",
            "\n",
            "\n",
            "* Electronic sources\n",
            "\n",
            "  Anonymous ftp:\n",
            "\n",
            "  [FTPBK] ftp.uu.net:bsd-sources/usr.bin/des/\n",
            "  [FTPCB] ftp.uu.net:usenet/comp.sources.unix/volume10/cbw/\n",
            "  [FTPDF] ftp.funet.fi:pub/unix/security/destoo.tar.Z\n",
            "  [FTPEY] ftp.psy.uq.oz.au:pub/DES/\n",
            "  [FTPMD] rsa.com:?\n",
            "  [FTPMR] cl-next3.cl.msu.edu:pub/crypt/newdes.tar.Z\n",
            "  [FTPOB] ftp.3com.com:Orange-book\n",
            "  [FTPPF] prep.ai.mit.edu:pub/lpf/\n",
            "  [FTPPK] ucsd.edu:hamradio/packet/tcpip/crypto/des.tar.Z\n",
            "  [FTPRF] nic.merit.edu:documents/rfc/\n",
            "  [FTPSF] beta.xerox.com:pub/hash/\n",
            "  [FTPSO] chalmers.se:pub/des/des.1.0.tar.Z\n",
            "  [FTPUF] ftp.uu.net:usenet/comp.sources.unix/volume28/ufc-crypt/\n",
            "  [FTPWP] garbo.uwasa.fi:pc/util/wppass2.zip\n",
            "\n",
            "* RFCs (available from [FTPRF])\n",
            "\n",
            "\n",
            "1424  Kaliski, B.  Privacy Enhancement for Internet Electronic Mail: Part IV:\n",
            "      Key Certification and Related Services.  1993 February; 9 p. (Format:\n",
            "      TXT=17538 bytes)\n",
            "\n",
            "1423  Balenson, D.  Privacy Enhancement for Internet Electronic Mail: Part\n",
            "      III: Algorithms, Modes, and Identifiers.  1993 February; 14 p. (Format:\n",
            "      TXT=33278 bytes)  (Obsoletes RFC 1115)\n",
            "\n",
            "1422  Kent, S.  Privacy Enhancement for Internet Electronic Mail: Part II:\n",
            "      Certificate-Based Key Management.  1993 February; 32 p. (Format:\n",
            "      TXT=86086 bytes)  (Obsoletes RFC 1114)\n",
            "\n",
            "1421  Linn, J.  Privacy Enhancement for Internet Electronic Mail: Part I:\n",
            "      Message Encryption and Authentication Procedures.  1993 February; 42 p.\n",
            "      (Format: TXT=103895 bytes)  (Obsoletes RFC 1113)\n",
            "\n",
            "\n",
            "* Related newsgroups\n",
            "\n",
            "  There are other newsgroups which a sci.crypt reader might want also to\n",
            "  read.  Some have their own FAQ as well.\n",
            "\n",
            "  alt.comp.compression\t\tdiscussion of compression algorithms and code\n",
            "  alt.security\t\t\tgeneral security discussions\n",
            "  alt.security.index\t\tindex to alt.security\n",
            "  alt.security.pgp\t\tdiscussion of PGP\n",
            "  alt.security.ripem\t\tdiscussion of RIPEM\n",
            "  alt.society.civil-liberty\tgeneral civil liberties, including privacy\n",
            "  comp.org.eff.news\t\tNews reports from EFF\n",
            "  comp.org.eff.talk\t\tdiscussion of EFF related issues\n",
            "  comp.patents\t\t\tdiscussion of S/W patents, including RSA\n",
            "  comp.risks\t\t\tsome mention of crypto and wiretapping\n",
            "  comp.society.privacy\t\tgeneral privacy issues\n",
            "  comp.security.announce\tannouncements of security holes\n",
            "  misc.legal.computing\t\t\n",
            "  sci.math\t\t\tgeneral math discussion\n",
            "\n",
            "------------------\n",
            "target#: 4\n",
            "\n",
            "From:  ()\n",
            "Subject: Re: Quadra SCSI Problems???\n",
            "Organization: Apple Computer Inc.\n",
            "Lines: 28\n",
            "\n",
            "> ATTENTION: Mac Quadra owners: Many storage industry experts have\n",
            "> concluded that Mac Quadras suffer from timing irregularities deviating\n",
            "> from the standard SCSI specification. This results in silent corruption\n",
            "> of data when used with some devices, including ultra-modern devices.\n",
            "> Although I will not name the devices, since it is not their fault, an\n",
            "> example would be a Sony 3.5 inch MO, without the special \"Mac-compatible\"\n",
            "> firmware installed. One solution, sometimes, is to disable \"blind writes\"\n",
            "> \n",
            "To the best of my knowledge there aren't any problems with Quadras and\n",
            "blind transfers.  Trouble with blind transfers usually means the programmer\n",
            "screwed up the TIBs or didn't test their driver with the device in question.\n",
            "Well designed TIBs poll or loop at every point where delays of >16µsec occur.\n",
            "This usually occurs at the first byte of each block of a transfer but some\n",
            "devices can \"hiccup\" in the middle of blocks.  If this happens in the middle\n",
            "of a blind transfer there is the possibility of losing or gaining a byte\n",
            "depending on which direction the tranfer was going.  In anycase the SCSI Manager\n",
            "will eventually return a phase error at the end of the transaction because\n",
            "it is out of sync.  Actual data loss would only occur if the driver didn't\n",
            "pay attention to the errors coming back.\n",
            "\n",
            "Note that this effect is not caused by anything actually on the SCSI Bus but\n",
            "rather by the transfer loops inside the SCSI Manager.  The problem occurs when\n",
            "the processor bus errors trying to access the SCSI chip when the next byte\n",
            "hasn't been clocked yet.  Also note that the Bus Error is dealt with by a bus\n",
            "error handler and doesn't crash the machine...\n",
            "\n",
            "Clinton Bauder\n",
            "Apple Computer\n",
            "\n",
            "------------------\n",
            "target#: 0\n",
            "\n",
            "From: keith@cco.caltech.edu (Keith Allan Schneider)\n",
            "Subject: Re: <Political Atheists?\n",
            "Organization: California Institute of Technology, Pasadena\n",
            "Lines: 14\n",
            "NNTP-Posting-Host: lloyd.caltech.edu\n",
            "\n",
            "bobbe@vice.ICO.TEK.COM (Robert Beauchaine) writes:\n",
            "\n",
            ">To show that the examples I and others\n",
            ">have provided are *not* counter examples of your supposed inherent\n",
            ">moral hypothesis, you have to successfully argue that\n",
            ">domestication removes or alters this morality.\n",
            "\n",
            "I think that domestication will change behavior to a large degree.\n",
            "Domesticated animals exhibit behaviors not found in the wild.  I\n",
            "don't think that they can be viewed as good representatives of the\n",
            "wild animal kingdom, since they have been bred for thousands of years\n",
            "to produce certain behaviors, etc.\n",
            "\n",
            "keith\n",
            "\n",
            "------------------\n"
          ]
        }
      ]
    },
    {
      "cell_type": "code",
      "source": [
        "# removing \"headers\", \"footers\" and \"quotes\" is recommended because it is more realistic (https://scikit-learn.org/0.19/datasets/twenty_newsgroups.html)\n",
        "# loading dataset with or without \"headers\", \"footers\" and \"quotes\" and review each datasets.\n",
        "# When removing more contents, we will experience empty data"
      ],
      "metadata": {
        "id": "gPj_2tLoV9nW"
      },
      "execution_count": null,
      "outputs": []
    },
    {
      "cell_type": "code",
      "source": [
        "#remove headers only\n",
        "data1=fetch_20newsgroups (subset='all', shuffle=False, remove='headers')\n",
        "\n",
        "#remove footers only\n",
        "data2=fetch_20newsgroups(subset='all',shuffle=False,  remove='footers')\n",
        "\n",
        "#remove quotes only\n",
        "data3=fetch_20newsgroups (subset='all',shuffle=False, remove='quotes')\n",
        "\n",
        "#remove headers and footers\n",
        "data4=fetch_20newsgroups(subset='all',shuffle=False,  remove=('headers','footers'))\n",
        "\n",
        "#remove all headers, footers and quotes\n",
        "data5= fetch_20newsgroups(subset='all', shuffle=False, remove=(\"headers\", \"footers\", \"quotes\"))"
      ],
      "metadata": {
        "id": "6k5EUpN8W67Q"
      },
      "execution_count": null,
      "outputs": []
    },
    {
      "cell_type": "code",
      "source": [
        "#printing first  observation of data1 (header only removed)\n",
        "print(data1.data[0])"
      ],
      "metadata": {
        "colab": {
          "base_uri": "https://localhost:8080/"
        },
        "id": "yhhwwakuXIHW",
        "outputId": "e8c95327-21f9-4178-95b7-8ceec5dab394"
      },
      "execution_count": null,
      "outputs": [
        {
          "output_type": "stream",
          "name": "stdout",
          "text": [
            "\n",
            "gajarsky@pilot.njin.net writes:\n",
            "\n",
            "morgan and guzman will have era's 1 run higher than last year, and\n",
            " the cubs will be idiots and not pitch harkey as much as hibbard.\n",
            " castillo won't be good (i think he's a stud pitcher)\n",
            "\n",
            "       This season so far, Morgan and Guzman helped to lead the Cubs\n",
            "       at top in ERA, even better than THE rotation at Atlanta.\n",
            "       Cubs ERA at 0.056 while Braves at 0.059. We know it is early\n",
            "       in the season, we Cubs fans have learned how to enjoy the\n",
            "       short triumph while it is still there.\n",
            "\n"
          ]
        }
      ]
    },
    {
      "cell_type": "code",
      "source": [
        "#printing first  observation of data2(footer only removed)\n",
        "print(data2.data[0])"
      ],
      "metadata": {
        "colab": {
          "base_uri": "https://localhost:8080/"
        },
        "id": "BYTwGtd7XXa9",
        "outputId": "a9b4d2c6-dd49-4063-9281-5551aa1b8080"
      },
      "execution_count": null,
      "outputs": [
        {
          "output_type": "stream",
          "name": "stdout",
          "text": [
            "From: cubbie@garnet.berkeley.edu (                               )\n",
            "Subject: Re: Cubs behind Marlins? How?\n",
            "Article-I.D.: agate.1pt592$f9a\n",
            "Organization: University of California, Berkeley\n",
            "Lines: 12\n",
            "NNTP-Posting-Host: garnet.berkeley.edu\n",
            "\n",
            "\n",
            "gajarsky@pilot.njin.net writes:\n",
            "\n",
            "morgan and guzman will have era's 1 run higher than last year, and\n",
            " the cubs will be idiots and not pitch harkey as much as hibbard.\n",
            " castillo won't be good (i think he's a stud pitcher)\n"
          ]
        }
      ]
    },
    {
      "cell_type": "code",
      "source": [
        "#printing first  observation of data3 (quotes only removed)\n",
        "print(data3.data[0])\n"
      ],
      "metadata": {
        "colab": {
          "base_uri": "https://localhost:8080/"
        },
        "id": "jUX_OSJrXdvb",
        "outputId": "36483dab-8b40-45f5-b9de-01d0db773a52"
      },
      "execution_count": null,
      "outputs": [
        {
          "output_type": "stream",
          "name": "stdout",
          "text": [
            "From: cubbie@garnet.berkeley.edu (                               )\n",
            "Subject: Re: Cubs behind Marlins? How?\n",
            "Article-I.D.: agate.1pt592$f9a\n",
            "Organization: University of California, Berkeley\n",
            "Lines: 12\n",
            "NNTP-Posting-Host: garnet.berkeley.edu\n",
            "\n",
            "\n",
            "\n",
            "morgan and guzman will have era's 1 run higher than last year, and\n",
            " the cubs will be idiots and not pitch harkey as much as hibbard.\n",
            " castillo won't be good (i think he's a stud pitcher)\n",
            "\n",
            "       This season so far, Morgan and Guzman helped to lead the Cubs\n",
            "       at top in ERA, even better than THE rotation at Atlanta.\n",
            "       Cubs ERA at 0.056 while Braves at 0.059. We know it is early\n",
            "       in the season, we Cubs fans have learned how to enjoy the\n",
            "       short triumph while it is still there.\n",
            "\n"
          ]
        }
      ]
    },
    {
      "cell_type": "code",
      "source": [
        "#printing first  observation of data4 (headers and hooters are removed)\n",
        "print(data4.data[0])"
      ],
      "metadata": {
        "colab": {
          "base_uri": "https://localhost:8080/"
        },
        "id": "SffjkdpTXiX3",
        "outputId": "60a0b619-7734-4cc6-eba3-1ee21123b9aa"
      },
      "execution_count": null,
      "outputs": [
        {
          "output_type": "stream",
          "name": "stdout",
          "text": [
            "gajarsky@pilot.njin.net writes:\n",
            "\n",
            "morgan and guzman will have era's 1 run higher than last year, and\n",
            " the cubs will be idiots and not pitch harkey as much as hibbard.\n",
            " castillo won't be good (i think he's a stud pitcher)\n"
          ]
        }
      ]
    },
    {
      "cell_type": "code",
      "source": [
        "#printing first 3 observation of data5 (headers, footers and quotes are removed)\n",
        "print(data5.data[0])"
      ],
      "metadata": {
        "colab": {
          "base_uri": "https://localhost:8080/"
        },
        "id": "KSV5SLjrXkhG",
        "outputId": "468b73fd-6c2b-40dd-b4ae-79541af061ae"
      },
      "execution_count": null,
      "outputs": [
        {
          "output_type": "stream",
          "name": "stdout",
          "text": [
            "\n",
            "morgan and guzman will have era's 1 run higher than last year, and\n",
            " the cubs will be idiots and not pitch harkey as much as hibbard.\n",
            " castillo won't be good (i think he's a stud pitcher)\n"
          ]
        }
      ]
    },
    {
      "cell_type": "code",
      "source": [
        "#check for number of empty data after \"headers\",\"footers\" and \"quotes\" are removed.\n",
        "empty_data_count=0\n",
        "for item in data1.data:\n",
        "  if not item:\n",
        "    empty_data_count +=1\n",
        "\n",
        "print(\"data1:\",empty_data_count)\n",
        "empty_data_count=0\n",
        "for item in data2.data:\n",
        "  if not item:\n",
        "    empty_data_count +=1\n",
        "\n",
        "print(\"data2:\",empty_data_count)\n",
        "empty_data_count=0\n",
        "for item in data3.data:\n",
        "  if not item:\n",
        "    empty_data_count +=1\n",
        "\n",
        "print(\"data3:\",empty_data_count)\n",
        "empty_data_count=0\n",
        "for item in data4.data:\n",
        "  if not item:\n",
        "    empty_data_count +=1\n",
        "\n",
        "print(\"data4:\",empty_data_count)\n",
        "empty_data_count=0\n",
        "for item in data5.data:\n",
        "  if not item:\n",
        "    empty_data_count +=1\n",
        "\n",
        "print(\"data5:\",empty_data_count)"
      ],
      "metadata": {
        "colab": {
          "base_uri": "https://localhost:8080/"
        },
        "id": "76b9xwQKZwXX",
        "outputId": "2834e200-dd48-4b11-cee5-7b39256b336a"
      },
      "execution_count": null,
      "outputs": [
        {
          "output_type": "stream",
          "name": "stdout",
          "text": [
            "data1: 6\n",
            "data2: 0\n",
            "data3: 0\n",
            "data4: 6\n",
            "data5: 380\n"
          ]
        }
      ]
    },
    {
      "cell_type": "code",
      "source": [
        "#Defining train_data and test_data. Headers, footers and quotes can be removed in this process.\n",
        "\n",
        "train_data_original = fetch_20newsgroups(subset = 'train')\n",
        "test_data_original= fetch_20newsgroups(subset = 'test')\n",
        "\n",
        "import numpy as np\n",
        "remove= ('headers','footers','quotes')\n",
        "train_data= fetch_20newsgroups(subset = 'train',remove=remove)\n",
        "test_data= fetch_20newsgroups(subset = 'test',remove=remove)\n",
        "\n",
        "# Filter out empty observations from the training data\n",
        "non_empty_train_indices = [i for i, text in enumerate(train_data.data) if text.strip()]\n",
        "filtered_train_data = [train_data.data[i] for i in non_empty_train_indices]\n",
        "filtered_train_target = [train_data.target[i] for i in non_empty_train_indices]\n",
        "\n",
        "# Filter out empty observations from the test data\n",
        "non_empty_test_indices = [i for i, text in enumerate(test_data.data) if text.strip()]\n",
        "filtered_test_data = [test_data.data[i] for i in non_empty_test_indices]\n",
        "filtered_test_target = [test_data.target[i] for i in non_empty_test_indices]\n",
        "\n",
        "# Calculate the number of observations in the filtered datasets\n",
        "num_train_observations = len(filtered_train_data)\n",
        "num_test_observations = len(filtered_test_data)\n",
        "\n",
        "print(\"Number of training observations:\", num_train_observations)\n",
        "print(\"Number of test observations:\", num_test_observations)\n",
        "\n"
      ],
      "metadata": {
        "colab": {
          "base_uri": "https://localhost:8080/"
        },
        "id": "irJMYMpUdufP",
        "outputId": "669cb44a-1ffc-44ca-b948-0175f789ad52"
      },
      "execution_count": null,
      "outputs": [
        {
          "output_type": "stream",
          "name": "stdout",
          "text": [
            "Number of training observations: 11014\n",
            "Number of test observations: 7317\n"
          ]
        }
      ]
    },
    {
      "cell_type": "code",
      "source": [],
      "metadata": {
        "id": "hjQ3VnzUjH--"
      },
      "execution_count": null,
      "outputs": []
    }
  ]
}