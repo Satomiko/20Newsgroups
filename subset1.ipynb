{
  "nbformat": 4,
  "nbformat_minor": 0,
  "metadata": {
    "colab": {
      "provenance": [],
      "authorship_tag": "ABX9TyMJV8KP72xpeaqB5AC4/tgS",
      "include_colab_link": true
    },
    "kernelspec": {
      "name": "python3",
      "display_name": "Python 3"
    },
    "language_info": {
      "name": "python"
    }
  },
  "cells": [
    {
      "cell_type": "markdown",
      "metadata": {
        "id": "view-in-github",
        "colab_type": "text"
      },
      "source": [
        "<a href=\"https://colab.research.google.com/github/Satomiko/20Newsgroups/blob/main/subset1.ipynb\" target=\"_parent\"><img src=\"https://colab.research.google.com/assets/colab-badge.svg\" alt=\"Open In Colab\"/></a>"
      ]
    },
    {
      "cell_type": "code",
      "execution_count": 1,
      "metadata": {
        "colab": {
          "base_uri": "https://localhost:8080/"
        },
        "id": "gwuaSeq5gzz3",
        "outputId": "e32effc3-f3f7-4dab-81e6-bf74e62b2ada"
      },
      "outputs": [
        {
          "output_type": "stream",
          "name": "stdout",
          "text": [
            "Requirement already satisfied: nltk in /usr/local/lib/python3.10/dist-packages (3.8.1)\n",
            "Requirement already satisfied: click in /usr/local/lib/python3.10/dist-packages (from nltk) (8.1.7)\n",
            "Requirement already satisfied: joblib in /usr/local/lib/python3.10/dist-packages (from nltk) (1.3.2)\n",
            "Requirement already satisfied: regex>=2021.8.3 in /usr/local/lib/python3.10/dist-packages (from nltk) (2023.6.3)\n",
            "Requirement already satisfied: tqdm in /usr/local/lib/python3.10/dist-packages (from nltk) (4.66.1)\n"
          ]
        }
      ],
      "source": [
        "pip install nltk"
      ]
    },
    {
      "cell_type": "code",
      "source": [
        "import numpy as np\n",
        "import pandas as pd\n",
        "import seaborn as sns\n",
        "import matplotlib.pyplot as plt\n",
        "import nltk\n",
        "nltk.download('punkt')\n",
        "nltk.download('stopwords')\n",
        "nltk.download('wordnet')\n",
        "from nltk.tokenize import word_tokenize\n",
        "from nltk.corpus import stopwords\n",
        "from nltk.stem import WordNetLemmatizer\n",
        "from nltk.stem import LancasterStemmer\n",
        "from nltk.stem import PorterStemmer\n",
        "import string\n",
        "from wordcloud import WordCloud, STOPWORDS\n",
        "from sklearn.datasets import fetch_20newsgroups\n",
        "from sklearn.feature_extraction.text import CountVectorizer, TfidfVectorizer\n",
        "from sklearn.naive_bayes import MultinomialNB #for multinomialNB\n",
        "from sklearn.metrics import accuracy_score, classification_report #for evaluation report"
      ],
      "metadata": {
        "colab": {
          "base_uri": "https://localhost:8080/"
        },
        "id": "Flw00LkJhEM7",
        "outputId": "20d85f2f-db2a-4eb3-ba0a-cdc231230bfd"
      },
      "execution_count": 3,
      "outputs": [
        {
          "output_type": "stream",
          "name": "stderr",
          "text": [
            "[nltk_data] Downloading package punkt to /root/nltk_data...\n",
            "[nltk_data]   Unzipping tokenizers/punkt.zip.\n",
            "[nltk_data] Downloading package stopwords to /root/nltk_data...\n",
            "[nltk_data]   Unzipping corpora/stopwords.zip.\n",
            "[nltk_data] Downloading package wordnet to /root/nltk_data...\n"
          ]
        }
      ]
    },
    {
      "cell_type": "code",
      "source": [
        "#after the review of text preprocessing method in \"2. preprocessing methods.ipybb\", the following function was created for text preprocessing\n",
        "\n",
        "def preprocess_text(df, column_name):\n",
        "    # Lowercasing\n",
        "    df[column_name] = df[column_name].apply(lambda tokens: [token.lower() for token in tokens])\n",
        "\n",
        "    # Stop Word Removal\n",
        "    stop_words = set(stopwords.words('english'))\n",
        "    df[column_name] = df[column_name].apply(lambda tokens: [word for word in tokens if word not in stop_words])\n",
        "\n",
        "    # Removing one-letter words\n",
        "    df[column_name] = df[column_name].apply(lambda tokens: [word for word in tokens if len(word) > 1])\n",
        "\n",
        "    # Remove special symbols and punctuation\n",
        "    df[column_name] = df[column_name].apply(lambda tokens: [word for word in tokens if word.isalpha()])\n",
        "\n",
        "    # Lemmatizing\n",
        "    lemmatizer = WordNetLemmatizer()\n",
        "    df[column_name] = df[column_name].apply(lambda tokens: [lemmatizer.lemmatize(word) for word in tokens])"
      ],
      "metadata": {
        "id": "JnkuIBrdj4iY"
      },
      "execution_count": 20,
      "outputs": []
    },
    {
      "cell_type": "code",
      "source": [
        "def word_count (df,colomn_name):\n",
        "  df['word_count'] = df [colomn_name].apply(len)\n",
        "  average_word_count = df['word_count'].mean()\n",
        "  max_word_count = df['word_count'].max()\n",
        "  minimum_word_count = df['word_count'].min()\n",
        "  print(f\"Average Word Count :{average_word_count}\")\n",
        "  print(f\"Maximum Word Count :{max_word_count}\")\n",
        "  print(f\"Minimum Word Count :{minimum_word_count}\")\n",
        "\n",
        "\n",
        "# train_df_1['word_count']=train_df_1['data'].apply(len)\n",
        "# average_word_count_train=train_df_1['word_count'].mean()\n",
        "# max_word_count_train=train_df_1['word_count'].max()\n",
        "# minimum_word_count_train=train_df_1['word_count'].min()\n",
        "# print(\"Average Word Count (train): \",average_word_count_train,\n",
        "#       \"Maximum Word Count (train): \",max_word_count_train,\n",
        "#       \"Minimum Word Count (train): \",minimum_word_count_train)"
      ],
      "metadata": {
        "id": "s6DGzNxvmrIl"
      },
      "execution_count": 50,
      "outputs": []
    },
    {
      "cell_type": "code",
      "source": [
        "#use \"fetch_20newsgroups\" function from sklean.datasets  to load 20 newsgroups dataset\n",
        "# removing \"headers\", \"footers\" and \"quotes\" is recommended because it is more realistic (https://scikit-learn.org/0.19/datasets/twenty_newsgroups.html)\n",
        "# loading dataset with or without \"headers\", \"footers\" and \"quotes\" and review each datasets.\n",
        "\n",
        "remove = (\"headers\", \"footers\", \"quotes\")\n",
        "\n",
        "cats1=['comp.graphics','talk.politics.mideast','soc.religion.christian','rec.autos','sci.crypt']  #from different primary group\n",
        "cats2=['comp.graphics','comp.os.ms-windows.misc','comp.sys.ibm.pc.hardware','comp.sys.mac.hardware','comp.windows.x'] #from same primary group\n"
      ],
      "metadata": {
        "id": "BvBlLAQZhJP8"
      },
      "execution_count": 69,
      "outputs": []
    },
    {
      "cell_type": "code",
      "source": [
        "sub1_train = fetch_20newsgroups(subset='train', remove = remove, categories=cats1)\n",
        "sub1_test = fetch_20newsgroups (subset='test', remove= remove, categories=cats1)"
      ],
      "metadata": {
        "id": "42ByJzscqu7Z"
      },
      "execution_count": 70,
      "outputs": []
    },
    {
      "cell_type": "code",
      "source": [
        "categories = sub1_train.target_names\n",
        "categories"
      ],
      "metadata": {
        "colab": {
          "base_uri": "https://localhost:8080/"
        },
        "id": "YAKRE0toiVLo",
        "outputId": "9a16de0f-544a-493e-ee0e-4d9c074e3157"
      },
      "execution_count": 71,
      "outputs": [
        {
          "output_type": "execute_result",
          "data": {
            "text/plain": [
              "['comp.graphics',\n",
              " 'rec.autos',\n",
              " 'sci.crypt',\n",
              " 'soc.religion.christian',\n",
              " 'talk.politics.mideast']"
            ]
          },
          "metadata": {},
          "execution_count": 71
        }
      ]
    },
    {
      "cell_type": "code",
      "source": [
        "len(sub1_train.data)"
      ],
      "metadata": {
        "colab": {
          "base_uri": "https://localhost:8080/"
        },
        "id": "TNWwQDoqiZey",
        "outputId": "e88059d5-c4fa-40fe-cee7-042fe3d01b7a"
      },
      "execution_count": 72,
      "outputs": [
        {
          "output_type": "execute_result",
          "data": {
            "text/plain": [
              "2936"
            ]
          },
          "metadata": {},
          "execution_count": 72
        }
      ]
    },
    {
      "cell_type": "code",
      "source": [
        "len(sub1_test.data)"
      ],
      "metadata": {
        "colab": {
          "base_uri": "https://localhost:8080/"
        },
        "id": "bWp-xBUTidR6",
        "outputId": "ab7acf02-a3f2-42dd-f059-ebdfdd8f3c30"
      },
      "execution_count": 73,
      "outputs": [
        {
          "output_type": "execute_result",
          "data": {
            "text/plain": [
              "1955"
            ]
          },
          "metadata": {},
          "execution_count": 73
        }
      ]
    },
    {
      "cell_type": "code",
      "source": [
        "#count observation in each category (Train Data)\n",
        "\n",
        "cat,frequency_train = np.unique(sub1_train.target, return_counts = True)\n",
        "cat,frequency_train"
      ],
      "metadata": {
        "colab": {
          "base_uri": "https://localhost:8080/"
        },
        "id": "eO4F8GUiiqWa",
        "outputId": "698a73b0-0675-42a3-b23d-5ff95860bbe1"
      },
      "execution_count": 74,
      "outputs": [
        {
          "output_type": "execute_result",
          "data": {
            "text/plain": [
              "(array([0, 1, 2, 3, 4]), array([584, 594, 595, 599, 564]))"
            ]
          },
          "metadata": {},
          "execution_count": 74
        }
      ]
    },
    {
      "cell_type": "code",
      "source": [
        "#count observation in each category (Test Data)\n",
        "\n",
        "cat,frequency_test = np.unique(sub1_test.target, return_counts = True)\n",
        "cat,frequency_test"
      ],
      "metadata": {
        "colab": {
          "base_uri": "https://localhost:8080/"
        },
        "id": "J07EBn7Zi2Bl",
        "outputId": "9f1bc80d-a9c9-4024-da7b-455e54e213f6"
      },
      "execution_count": 75,
      "outputs": [
        {
          "output_type": "execute_result",
          "data": {
            "text/plain": [
              "(array([0, 1, 2, 3, 4]), array([389, 396, 396, 398, 376]))"
            ]
          },
          "metadata": {},
          "execution_count": 75
        }
      ]
    },
    {
      "cell_type": "code",
      "source": [
        "cat = np.array(sub1_test.target_names)\n",
        "#create bar plots for both training data and test data to compare the distribution\n",
        "\n",
        "#subplot 1 for training data distribution\n",
        "plt.subplot(1,2,1) #1 row, 2 columns, position 1\n",
        "plt.bar(cat, frequency_train)\n",
        "plt.xticks(rotation=90)\n",
        "plt.title('Class Distribution for Training Data')\n",
        "plt.xlabel('News Group')\n",
        "plt.ylabel('Frequency')\n",
        "\n",
        "#subplot 2 for test data distribution\n",
        "plt.subplot(1,2,2) #1 row, 2 columns, position 2\n",
        "plt.bar(cat, frequency_test, color = 'red')\n",
        "plt.xticks(rotation=90)\n",
        "plt.title('Class Distribution for Test Data')\n",
        "plt.xlabel('News Group')\n",
        "plt.ylabel('Frequency')\n",
        "\n",
        "plt.subplots_adjust(wspace=0.4) #increase horisontal space\n",
        "plt.show()"
      ],
      "metadata": {
        "colab": {
          "base_uri": "https://localhost:8080/",
          "height": 601
        },
        "id": "xy74onS6i8r_",
        "outputId": "f33f17c1-a6d1-4c32-a77c-6da4ab6cb579"
      },
      "execution_count": 76,
      "outputs": [
        {
          "output_type": "display_data",
          "data": {
            "text/plain": [
              "<Figure size 640x480 with 2 Axes>"
            ],
            "image/png": "[encoded data removed]"
          },
          "metadata": {}
        }
      ]
    },
    {
      "cell_type": "code",
      "source": [
        "#Convert Bunch format to dataframe\n",
        "train_df_1 = pd.DataFrame({'data': sub1_train.data, 'target': sub1_train.target})\n",
        "test_df_1 = pd.DataFrame({'data': sub1_test.data, 'target': sub1_test.target})"
      ],
      "metadata": {
        "id": "fdzJD-H2jk9u"
      },
      "execution_count": 77,
      "outputs": []
    },
    {
      "cell_type": "code",
      "source": [
        "#Tokenization\n",
        "train_df_1 ['data'] = train_df_1['data'] .apply(word_tokenize)\n",
        "test_df_1['data']= test_df_1 ['data']. apply(word_tokenize)"
      ],
      "metadata": {
        "id": "9SRelKa-jt88"
      },
      "execution_count": 78,
      "outputs": []
    },
    {
      "cell_type": "code",
      "source": [
        "preprocess_text(train_df_1, 'data')\n",
        "preprocess_text(test_df_1,'data')"
      ],
      "metadata": {
        "id": "g20xAuEUj62B"
      },
      "execution_count": 79,
      "outputs": []
    },
    {
      "cell_type": "code",
      "source": [
        "# Remove rows with empty or whitespace strings in the \"data\" column\n",
        "train_df_1 = train_df_1[train_df_1['data'].apply(len) > 0]\n",
        "test_df_1 = test_df_1[test_df_1['data'].apply(len) > 0]"
      ],
      "metadata": {
        "id": "UbRaYax1kAaE"
      },
      "execution_count": 80,
      "outputs": []
    },
    {
      "cell_type": "code",
      "source": [
        "word_count(train_df_1,'data')"
      ],
      "metadata": {
        "colab": {
          "base_uri": "https://localhost:8080/"
        },
        "id": "uhxADpbQn9Gv",
        "outputId": "8cdfa22f-a2aa-45fb-c8d7-207b53930874"
      },
      "execution_count": 81,
      "outputs": [
        {
          "output_type": "stream",
          "name": "stdout",
          "text": [
            "Average Word Count :115.4011934011934\n",
            "Maximum Word Count :4777\n",
            "Minimum Word Count :1\n"
          ]
        }
      ]
    },
    {
      "cell_type": "code",
      "source": [
        "word_count(test_df_1,'data')"
      ],
      "metadata": {
        "colab": {
          "base_uri": "https://localhost:8080/"
        },
        "id": "2SIc_nMRobeP",
        "outputId": "b8dc1151-b2c6-4cd3-ab68-8be8ab0a1dc3"
      },
      "execution_count": 82,
      "outputs": [
        {
          "output_type": "stream",
          "name": "stdout",
          "text": [
            "Average Word Count :119.35683987274655\n",
            "Maximum Word Count :4714\n",
            "Minimum Word Count :1\n"
          ]
        }
      ]
    },
    {
      "cell_type": "code",
      "source": [
        "# TF-IDF\n",
        "\n",
        "train_df_1['data'] = train_df_1['data'].apply(lambda tokens: ' '.join(tokens))\n",
        "test_df_1['data'] =test_df_1['data'].apply(lambda tokens:' '.join(tokens))\n",
        "\n",
        "tfidf_vectorizer = TfidfVectorizer(max_features=5000)\n",
        "X1_train = tfidf_vectorizer.fit_transform(train_df_1['data'])\n",
        "\n",
        "X1_test = tfidf_vectorizer.transform(test_df_1['data'])"
      ],
      "metadata": {
        "id": "P0sTL8o7kZvw"
      },
      "execution_count": 83,
      "outputs": []
    },
    {
      "cell_type": "code",
      "source": [
        "#for Multinomial NaiveBayes method, use \"MultinomialNB\" function fromsklearn.naive_bayes\n",
        "nb_classifier = MultinomialNB()\n",
        "nb_classifier.fit(X1_train, train_df_1['target'])"
      ],
      "metadata": {
        "colab": {
          "base_uri": "https://localhost:8080/",
          "height": 74
        },
        "id": "x8JEVMoYlH0O",
        "outputId": "a2d75369-e963-421d-d8ae-884a11383e71"
      },
      "execution_count": 84,
      "outputs": [
        {
          "output_type": "execute_result",
          "data": {
            "text/plain": [
              "MultinomialNB()"
            ],
            "text/html": [
              "<style>#sk-container-id-2 {color: black;background-color: white;}#sk-container-id-2 pre{padding: 0;}#sk-container-id-2 div.sk-toggleable {background-color: white;}#sk-container-id-2 label.sk-toggleable__label {cursor: pointer;display: block;width: 100%;margin-bottom: 0;padding: 0.3em;box-sizing: border-box;text-align: center;}#sk-container-id-2 label.sk-toggleable__label-arrow:before {content: \"▸\";float: left;margin-right: 0.25em;color: #696969;}#sk-container-id-2 label.sk-toggleable__label-arrow:hover:before {color: black;}#sk-container-id-2 div.sk-estimator:hover label.sk-toggleable__label-arrow:before {color: black;}#sk-container-id-2 div.sk-toggleable__content {max-height: 0;max-width: 0;overflow: hidden;text-align: left;background-color: #f0f8ff;}#sk-container-id-2 div.sk-toggleable__content pre {margin: 0.2em;color: black;border-radius: 0.25em;background-color: #f0f8ff;}#sk-container-id-2 input.sk-toggleable__control:checked~div.sk-toggleable__content {max-height: 200px;max-width: 100%;overflow: auto;}#sk-container-id-2 input.sk-toggleable__control:checked~label.sk-toggleable__label-arrow:before {content: \"▾\";}#sk-container-id-2 div.sk-estimator input.sk-toggleable__control:checked~label.sk-toggleable__label {background-color: #d4ebff;}#sk-container-id-2 div.sk-label input.sk-toggleable__control:checked~label.sk-toggleable__label {background-color: #d4ebff;}#sk-container-id-2 input.sk-hidden--visually {border: 0;clip: rect(1px 1px 1px 1px);clip: rect(1px, 1px, 1px, 1px);height: 1px;margin: -1px;overflow: hidden;padding: 0;position: absolute;width: 1px;}#sk-container-id-2 div.sk-estimator {font-family: monospace;background-color: #f0f8ff;border: 1px dotted black;border-radius: 0.25em;box-sizing: border-box;margin-bottom: 0.5em;}#sk-container-id-2 div.sk-estimator:hover {background-color: #d4ebff;}#sk-container-id-2 div.sk-parallel-item::after {content: \"\";width: 100%;border-bottom: 1px solid gray;flex-grow: 1;}#sk-container-id-2 div.sk-label:hover label.sk-toggleable__label {background-color: #d4ebff;}#sk-container-id-2 div.sk-serial::before {content: \"\";position: absolute;border-left: 1px solid gray;box-sizing: border-box;top: 0;bottom: 0;left: 50%;z-index: 0;}#sk-container-id-2 div.sk-serial {display: flex;flex-direction: column;align-items: center;background-color: white;padding-right: 0.2em;padding-left: 0.2em;position: relative;}#sk-container-id-2 div.sk-item {position: relative;z-index: 1;}#sk-container-id-2 div.sk-parallel {display: flex;align-items: stretch;justify-content: center;background-color: white;position: relative;}#sk-container-id-2 div.sk-item::before, #sk-container-id-2 div.sk-parallel-item::before {content: \"\";position: absolute;border-left: 1px solid gray;box-sizing: border-box;top: 0;bottom: 0;left: 50%;z-index: -1;}#sk-container-id-2 div.sk-parallel-item {display: flex;flex-direction: column;z-index: 1;position: relative;background-color: white;}#sk-container-id-2 div.sk-parallel-item:first-child::after {align-self: flex-end;width: 50%;}#sk-container-id-2 div.sk-parallel-item:last-child::after {align-self: flex-start;width: 50%;}#sk-container-id-2 div.sk-parallel-item:only-child::after {width: 0;}#sk-container-id-2 div.sk-dashed-wrapped {border: 1px dashed gray;margin: 0 0.4em 0.5em 0.4em;box-sizing: border-box;padding-bottom: 0.4em;background-color: white;}#sk-container-id-2 div.sk-label label {font-family: monospace;font-weight: bold;display: inline-block;line-height: 1.2em;}#sk-container-id-2 div.sk-label-container {text-align: center;}#sk-container-id-2 div.sk-container {/* jupyter's `normalize.less` sets `[hidden] { display: none; }` but bootstrap.min.css set `[hidden] { display: none !important; }` so we also need the `!important` here to be able to override the default hidden behavior on the sphinx rendered scikit-learn.org. See: https://github.com/scikit-learn/scikit-learn/issues/21755 */display: inline-block !important;position: relative;}#sk-container-id-2 div.sk-text-repr-fallback {display: none;}</style><div id=\"sk-container-id-2\" class=\"sk-top-container\"><div class=\"sk-text-repr-fallback\"><pre>MultinomialNB()</pre><b>In a Jupyter environment, please rerun this cell to show the HTML representation or trust the notebook. <br />On GitHub, the HTML representation is unable to render, please try loading this page with nbviewer.org.</b></div><div class=\"sk-container\" hidden><div class=\"sk-item\"><div class=\"sk-estimator sk-toggleable\"><input class=\"sk-toggleable__control sk-hidden--visually\" id=\"sk-estimator-id-2\" type=\"checkbox\" checked><label for=\"sk-estimator-id-2\" class=\"sk-toggleable__label sk-toggleable__label-arrow\">MultinomialNB</label><div class=\"sk-toggleable__content\"><pre>MultinomialNB()</pre></div></div></div></div></div>"
            ]
          },
          "metadata": {},
          "execution_count": 84
        }
      ]
    },
    {
      "cell_type": "code",
      "source": [
        "# use \"accuracy_score\" and \"classification_report\" function from sklearn.metrics\n",
        "\n",
        "predictions = nb_classifier.predict(X1_test)\n",
        "accuracy = accuracy_score(test_df_1['target'], predictions)\n",
        "\n",
        "report = classification_report(test_df_1['target'], predictions, target_names=sub1_train.target_names)\n",
        "print(f'Accuracy: {accuracy}')\n",
        "print(report)"
      ],
      "metadata": {
        "colab": {
          "base_uri": "https://localhost:8080/"
        },
        "id": "7mzUGIvmkrqr",
        "outputId": "fe0ce3be-8eab-49fd-dec6-52e97d222a0f"
      },
      "execution_count": 85,
      "outputs": [
        {
          "output_type": "stream",
          "name": "stdout",
          "text": [
            "Accuracy: 0.8796394485683987\n",
            "                        precision    recall  f1-score   support\n",
            "\n",
            "         comp.graphics       0.87      0.87      0.87       384\n",
            "             rec.autos       0.91      0.91      0.91       370\n",
            "             sci.crypt       0.88      0.83      0.85       378\n",
            "soc.religion.christian       0.81      0.97      0.88       384\n",
            " talk.politics.mideast       0.95      0.82      0.88       370\n",
            "\n",
            "              accuracy                           0.88      1886\n",
            "             macro avg       0.88      0.88      0.88      1886\n",
            "          weighted avg       0.88      0.88      0.88      1886\n",
            "\n"
          ]
        }
      ]
    },
    {
      "cell_type": "code",
      "source": [
        "sub2_train = fetch_20newsgroups(subset='train', remove = remove, categories=cats2)\n",
        "sub2_test = fetch_20newsgroups (subset='test', remove= remove, categories=cats2)"
      ],
      "metadata": {
        "id": "ASg40vFeq3OI"
      },
      "execution_count": 53,
      "outputs": []
    },
    {
      "cell_type": "code",
      "source": [
        "categories = sub2_train.target_names\n",
        "categories"
      ],
      "metadata": {
        "colab": {
          "base_uri": "https://localhost:8080/"
        },
        "id": "nmxAqZIZq9Sv",
        "outputId": "b818524b-8404-47d5-86b8-7fc66a1b0a87"
      },
      "execution_count": 55,
      "outputs": [
        {
          "output_type": "execute_result",
          "data": {
            "text/plain": [
              "['comp.graphics',\n",
              " 'comp.os.ms-windows.misc',\n",
              " 'comp.sys.ibm.pc.hardware',\n",
              " 'comp.sys.mac.hardware',\n",
              " 'comp.windows.x']"
            ]
          },
          "metadata": {},
          "execution_count": 55
        }
      ]
    },
    {
      "cell_type": "code",
      "source": [
        "len(sub2_train.data)"
      ],
      "metadata": {
        "colab": {
          "base_uri": "https://localhost:8080/"
        },
        "id": "6TjiN44-rCgR",
        "outputId": "24f9ff24-6c78-4d20-bcce-283807f59c95"
      },
      "execution_count": 56,
      "outputs": [
        {
          "output_type": "execute_result",
          "data": {
            "text/plain": [
              "2936"
            ]
          },
          "metadata": {},
          "execution_count": 56
        }
      ]
    },
    {
      "cell_type": "code",
      "source": [
        "len(sub2_test.data)"
      ],
      "metadata": {
        "colab": {
          "base_uri": "https://localhost:8080/"
        },
        "id": "N6986Kn5rEKO",
        "outputId": "b9c458ba-c6f0-4491-c2a7-9f44c191de27"
      },
      "execution_count": 57,
      "outputs": [
        {
          "output_type": "execute_result",
          "data": {
            "text/plain": [
              "1955"
            ]
          },
          "metadata": {},
          "execution_count": 57
        }
      ]
    },
    {
      "cell_type": "code",
      "source": [
        "#count observation in each category (Train Data)\n",
        "\n",
        "cat,frequency_train = np.unique(sub2_train.target, return_counts = True)\n",
        "cat,frequency_train"
      ],
      "metadata": {
        "colab": {
          "base_uri": "https://localhost:8080/"
        },
        "id": "cQXFJzc2rJia",
        "outputId": "79abb667-95f2-49ff-9562-1f2c310fac2c"
      },
      "execution_count": 58,
      "outputs": [
        {
          "output_type": "execute_result",
          "data": {
            "text/plain": [
              "(array([0, 1, 2, 3, 4]), array([584, 591, 590, 578, 593]))"
            ]
          },
          "metadata": {},
          "execution_count": 58
        }
      ]
    },
    {
      "cell_type": "code",
      "source": [
        "#count observation in each category (Test Data)\n",
        "\n",
        "cat,frequency_test = np.unique(sub2_test.target, return_counts = True)\n",
        "cat,frequency_test"
      ],
      "metadata": {
        "colab": {
          "base_uri": "https://localhost:8080/"
        },
        "id": "zMTAKIt3rO-s",
        "outputId": "eebd1c2d-f8e6-4b6d-b110-e8a5ef87608e"
      },
      "execution_count": 59,
      "outputs": [
        {
          "output_type": "execute_result",
          "data": {
            "text/plain": [
              "(array([0, 1, 2, 3, 4]), array([389, 394, 392, 385, 395]))"
            ]
          },
          "metadata": {},
          "execution_count": 59
        }
      ]
    },
    {
      "cell_type": "code",
      "source": [
        "cat = np.array(sub2_test.target_names)\n",
        "#create bar plots for both training data and test data to compare the distribution\n",
        "\n",
        "#subplot 1 for training data distribution\n",
        "plt.subplot(1,2,1) #1 row, 2 columns, position 1\n",
        "plt.bar(cat, frequency_train)\n",
        "plt.xticks(rotation=90)\n",
        "plt.title('Class Distribution for Training Data')\n",
        "plt.xlabel('News Group')\n",
        "plt.ylabel('Frequency')\n",
        "\n",
        "#subplot 2 for test data distribution\n",
        "plt.subplot(1,2,2) #1 row, 2 columns, position 2\n",
        "plt.bar(cat, frequency_test, color = 'red')\n",
        "plt.xticks(rotation=90)\n",
        "plt.title('Class Distribution for Test Data')\n",
        "plt.xlabel('News Group')\n",
        "plt.ylabel('Frequency')\n",
        "\n",
        "plt.subplots_adjust(wspace=0.4) #increase horisontal space\n",
        "plt.show()"
      ],
      "metadata": {
        "colab": {
          "base_uri": "https://localhost:8080/",
          "height": 645
        },
        "id": "FhKF7IDFrUU4",
        "outputId": "60f06674-6230-4a44-afe6-8f76ed701232"
      },
      "execution_count": 60,
      "outputs": [
        {
          "output_type": "display_data",
          "data": {
            "text/plain": [
              "<Figure size 640x480 with 2 Axes>"
            ],
            "image/png": "[encoded data removed]"
          },
          "metadata": {}
        }
      ]
    },
    {
      "cell_type": "code",
      "source": [
        "#Convert Bunch format to dataframe\n",
        "train_df_2 = pd.DataFrame({'data': sub2_train.data, 'target': sub2_train.target})\n",
        "test_df_2 = pd.DataFrame({'data': sub2_test.data, 'target': sub2_test.target})"
      ],
      "metadata": {
        "id": "zIJzJCmGrdYl"
      },
      "execution_count": 61,
      "outputs": []
    },
    {
      "cell_type": "code",
      "source": [
        "#Tokenization\n",
        "train_df_2 ['data'] = train_df_2['data'] .apply(word_tokenize)\n",
        "test_df_2['data']= test_df_2 ['data']. apply(word_tokenize)"
      ],
      "metadata": {
        "id": "G2fiSCZWrlYm"
      },
      "execution_count": 62,
      "outputs": []
    },
    {
      "cell_type": "code",
      "source": [
        "preprocess_text(train_df_2,'data')\n",
        "preprocess_text(test_df_2,'data')"
      ],
      "metadata": {
        "id": "HuMniD9qrokc"
      },
      "execution_count": 64,
      "outputs": []
    },
    {
      "cell_type": "code",
      "source": [
        "# Remove rows with empty or whitespace strings in the \"data\" column\n",
        "train_df_2 = train_df_2[train_df_2['data'].apply(len) > 0]\n",
        "test_df_2 = test_df_2[test_df_2['data'].apply(len) > 0]"
      ],
      "metadata": {
        "id": "ZH5zqvBrsMwY"
      },
      "execution_count": 66,
      "outputs": []
    },
    {
      "cell_type": "code",
      "source": [
        "print(\"[Train]\")\n",
        "word_count(train_df_2,'data')\n",
        "print(\"[Test]\")\n",
        "word_count(test_df_2,'data')"
      ],
      "metadata": {
        "colab": {
          "base_uri": "https://localhost:8080/"
        },
        "id": "aYOFxDFcr4mT",
        "outputId": "066fc0d6-a6c7-408d-e0d5-d6466a245da6"
      },
      "execution_count": 67,
      "outputs": [
        {
          "output_type": "stream",
          "name": "stdout",
          "text": [
            "[Train]\n",
            "Average Word Count :80.18165908295414\n",
            "Maximum Word Count :4887\n",
            "Minimum Word Count :1\n",
            "[Test]\n",
            "Average Word Count :83.40335254059717\n",
            "Maximum Word Count :4714\n",
            "Minimum Word Count :1\n"
          ]
        }
      ]
    },
    {
      "cell_type": "code",
      "source": [
        "# TF-IDF\n",
        "\n",
        "train_df_2['data'] = train_df_2['data'].apply(lambda tokens: ' '.join(tokens))\n",
        "test_df_2['data'] =test_df_2['data'].apply(lambda tokens:' '.join(tokens))\n",
        "\n",
        "tfidf_vectorizer = TfidfVectorizer(max_features=5000)\n",
        "X2_train = tfidf_vectorizer.fit_transform(train_df_2['data'])\n",
        "\n",
        "X2_test = tfidf_vectorizer.transform(test_df_2['data'])"
      ],
      "metadata": {
        "id": "Y8jFJ7QGsVsV"
      },
      "execution_count": 68,
      "outputs": []
    },
    {
      "cell_type": "code",
      "source": [
        "#for Multinomial NaiveBayes method, use \"MultinomialNB\" function fromsklearn.naive_bayes\n",
        "nb_classifier = MultinomialNB()\n",
        "nb_classifier.fit(X2_train, train_df_2['target'])"
      ],
      "metadata": {
        "colab": {
          "base_uri": "https://localhost:8080/",
          "height": 74
        },
        "id": "IZF6foues10q",
        "outputId": "29bc91cb-5bd1-429d-94ce-b5996504aedd"
      },
      "execution_count": 86,
      "outputs": [
        {
          "output_type": "execute_result",
          "data": {
            "text/plain": [
              "MultinomialNB()"
            ],
            "text/html": [
              "<style>#sk-container-id-3 {color: black;background-color: white;}#sk-container-id-3 pre{padding: 0;}#sk-container-id-3 div.sk-toggleable {background-color: white;}#sk-container-id-3 label.sk-toggleable__label {cursor: pointer;display: block;width: 100%;margin-bottom: 0;padding: 0.3em;box-sizing: border-box;text-align: center;}#sk-container-id-3 label.sk-toggleable__label-arrow:before {content: \"▸\";float: left;margin-right: 0.25em;color: #696969;}#sk-container-id-3 label.sk-toggleable__label-arrow:hover:before {color: black;}#sk-container-id-3 div.sk-estimator:hover label.sk-toggleable__label-arrow:before {color: black;}#sk-container-id-3 div.sk-toggleable__content {max-height: 0;max-width: 0;overflow: hidden;text-align: left;background-color: #f0f8ff;}#sk-container-id-3 div.sk-toggleable__content pre {margin: 0.2em;color: black;border-radius: 0.25em;background-color: #f0f8ff;}#sk-container-id-3 input.sk-toggleable__control:checked~div.sk-toggleable__content {max-height: 200px;max-width: 100%;overflow: auto;}#sk-container-id-3 input.sk-toggleable__control:checked~label.sk-toggleable__label-arrow:before {content: \"▾\";}#sk-container-id-3 div.sk-estimator input.sk-toggleable__control:checked~label.sk-toggleable__label {background-color: #d4ebff;}#sk-container-id-3 div.sk-label input.sk-toggleable__control:checked~label.sk-toggleable__label {background-color: #d4ebff;}#sk-container-id-3 input.sk-hidden--visually {border: 0;clip: rect(1px 1px 1px 1px);clip: rect(1px, 1px, 1px, 1px);height: 1px;margin: -1px;overflow: hidden;padding: 0;position: absolute;width: 1px;}#sk-container-id-3 div.sk-estimator {font-family: monospace;background-color: #f0f8ff;border: 1px dotted black;border-radius: 0.25em;box-sizing: border-box;margin-bottom: 0.5em;}#sk-container-id-3 div.sk-estimator:hover {background-color: #d4ebff;}#sk-container-id-3 div.sk-parallel-item::after {content: \"\";width: 100%;border-bottom: 1px solid gray;flex-grow: 1;}#sk-container-id-3 div.sk-label:hover label.sk-toggleable__label {background-color: #d4ebff;}#sk-container-id-3 div.sk-serial::before {content: \"\";position: absolute;border-left: 1px solid gray;box-sizing: border-box;top: 0;bottom: 0;left: 50%;z-index: 0;}#sk-container-id-3 div.sk-serial {display: flex;flex-direction: column;align-items: center;background-color: white;padding-right: 0.2em;padding-left: 0.2em;position: relative;}#sk-container-id-3 div.sk-item {position: relative;z-index: 1;}#sk-container-id-3 div.sk-parallel {display: flex;align-items: stretch;justify-content: center;background-color: white;position: relative;}#sk-container-id-3 div.sk-item::before, #sk-container-id-3 div.sk-parallel-item::before {content: \"\";position: absolute;border-left: 1px solid gray;box-sizing: border-box;top: 0;bottom: 0;left: 50%;z-index: -1;}#sk-container-id-3 div.sk-parallel-item {display: flex;flex-direction: column;z-index: 1;position: relative;background-color: white;}#sk-container-id-3 div.sk-parallel-item:first-child::after {align-self: flex-end;width: 50%;}#sk-container-id-3 div.sk-parallel-item:last-child::after {align-self: flex-start;width: 50%;}#sk-container-id-3 div.sk-parallel-item:only-child::after {width: 0;}#sk-container-id-3 div.sk-dashed-wrapped {border: 1px dashed gray;margin: 0 0.4em 0.5em 0.4em;box-sizing: border-box;padding-bottom: 0.4em;background-color: white;}#sk-container-id-3 div.sk-label label {font-family: monospace;font-weight: bold;display: inline-block;line-height: 1.2em;}#sk-container-id-3 div.sk-label-container {text-align: center;}#sk-container-id-3 div.sk-container {/* jupyter's `normalize.less` sets `[hidden] { display: none; }` but bootstrap.min.css set `[hidden] { display: none !important; }` so we also need the `!important` here to be able to override the default hidden behavior on the sphinx rendered scikit-learn.org. See: https://github.com/scikit-learn/scikit-learn/issues/21755 */display: inline-block !important;position: relative;}#sk-container-id-3 div.sk-text-repr-fallback {display: none;}</style><div id=\"sk-container-id-3\" class=\"sk-top-container\"><div class=\"sk-text-repr-fallback\"><pre>MultinomialNB()</pre><b>In a Jupyter environment, please rerun this cell to show the HTML representation or trust the notebook. <br />On GitHub, the HTML representation is unable to render, please try loading this page with nbviewer.org.</b></div><div class=\"sk-container\" hidden><div class=\"sk-item\"><div class=\"sk-estimator sk-toggleable\"><input class=\"sk-toggleable__control sk-hidden--visually\" id=\"sk-estimator-id-3\" type=\"checkbox\" checked><label for=\"sk-estimator-id-3\" class=\"sk-toggleable__label sk-toggleable__label-arrow\">MultinomialNB</label><div class=\"sk-toggleable__content\"><pre>MultinomialNB()</pre></div></div></div></div></div>"
            ]
          },
          "metadata": {},
          "execution_count": 86
        }
      ]
    },
    {
      "cell_type": "code",
      "source": [
        "# use \"accuracy_score\" and \"classification_report\" function from sklearn.metrics\n",
        "\n",
        "predictions = nb_classifier.predict(X2_test)\n",
        "accuracy = accuracy_score(test_df_2['target'], predictions)\n",
        "\n",
        "report = classification_report(test_df_2['target'], predictions, target_names=sub2_train.target_names)\n",
        "print(f'Accuracy: {accuracy}')\n",
        "print(report)"
      ],
      "metadata": {
        "colab": {
          "base_uri": "https://localhost:8080/"
        },
        "id": "kcOv5ZfMs7CT",
        "outputId": "5c48b6f9-5b6d-4a74-b690-e31feee904ed"
      },
      "execution_count": 88,
      "outputs": [
        {
          "output_type": "stream",
          "name": "stdout",
          "text": [
            "Accuracy: 0.7003666841278157\n",
            "                          precision    recall  f1-score   support\n",
            "\n",
            "           comp.graphics       0.71      0.72      0.72       384\n",
            " comp.os.ms-windows.misc       0.66      0.56      0.60       379\n",
            "comp.sys.ibm.pc.hardware       0.65      0.76      0.70       385\n",
            "   comp.sys.mac.hardware       0.71      0.72      0.72       371\n",
            "          comp.windows.x       0.77      0.75      0.76       390\n",
            "\n",
            "                accuracy                           0.70      1909\n",
            "               macro avg       0.70      0.70      0.70      1909\n",
            "            weighted avg       0.70      0.70      0.70      1909\n",
            "\n"
          ]
        }
      ]
    }
  ]
}